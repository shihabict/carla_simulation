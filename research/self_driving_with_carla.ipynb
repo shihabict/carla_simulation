{
 "cells": [
  {
   "cell_type": "code",
   "execution_count": 2,
   "id": "ec393a17-af57-4190-9bf1-120716d17656",
   "metadata": {},
   "outputs": [],
   "source": [
    "import carla\n",
    "import random"
   ]
  },
  {
   "cell_type": "code",
   "execution_count": 3,
   "id": "ac4bd9b8-e535-4dab-a263-c374ce0fc488",
   "metadata": {},
   "outputs": [
    {
     "data": {
      "text/plain": [
       "<carla.libcarla.BlueprintLibrary at 0x76d3ccd21a50>"
      ]
     },
     "execution_count": 3,
     "metadata": {},
     "output_type": "execute_result"
    }
   ],
   "source": [
    "# Set up the world\n",
    "client = carla.Client('localhost',2000)\n",
    "\n",
    "world = client.get_world()\n",
    "client.load_world('Town02')\n",
    "spawn_points = world.get_map().get_spawn_points()\n",
    "\n",
    "vehicle_bp = world.get_blueprint_library().filter('*vehicle*')\n",
    "\n",
    "vehicle_bp"
   ]
  },
  {
   "cell_type": "code",
   "execution_count": 4,
   "id": "34d43e52-e87e-4cfd-bd3c-d33e9224a551",
   "metadata": {},
   "outputs": [
    {
     "data": {
      "text/plain": [
       "<carla.libcarla.Transform at 0x76d3ccd221c0>"
      ]
     },
     "execution_count": 4,
     "metadata": {},
     "output_type": "execute_result"
    }
   ],
   "source": [
    "spawn_points[0]"
   ]
  },
  {
   "cell_type": "code",
   "execution_count": 5,
   "id": "99baa90e-1a0d-41d5-8573-4ba65801b78b",
   "metadata": {},
   "outputs": [],
   "source": [
    "start_point = spawn_points[0]\n",
    "vehicle = world.try_spawn_actor(vehicle_bp[0], start_point)"
   ]
  },
  {
   "cell_type": "code",
   "execution_count": 6,
   "id": "d4d3adf4-a93d-4463-9244-2526af20c782",
   "metadata": {},
   "outputs": [],
   "source": [
    "# get the car position on the map\n",
    "# Move spectator to vehicle location\n",
    "spectator = world.get_spectator()\n",
    "transform = vehicle.get_transform()\n",
    "spectator.set_transform(carla.Transform(\n",
    "    transform.location + carla.Location(z=30),  # 50 meters above\n",
    "    carla.Rotation(pitch=-90)  # Looking down\n",
    "))"
   ]
  },
  {
   "cell_type": "code",
   "execution_count": 7,
   "id": "c0b9451a-ddf0-4d71-bd48-0dc57e57717e",
   "metadata": {},
   "outputs": [
    {
     "name": "stdout",
     "output_type": "stream",
     "text": [
      "Vehicle spawned successfully at: Transform(Location(x=-7.530000, y=142.190002, z=0.499024), Rotation(pitch=0.000000, yaw=89.999954, roll=0.000000))\n",
      "Location: Location(x=-7.530000, y=142.190002, z=0.499024)\n"
     ]
    }
   ],
   "source": [
    "if vehicle is not None:\n",
    "    print(f\"Vehicle spawned successfully at: {vehicle.get_transform()}\")\n",
    "    vehicle_pos = vehicle.get_transform()\n",
    "    print(f\"Location: {vehicle_pos.location}\")\n",
    "else:\n",
    "    print(\"Failed to spawn vehicle - spawn point may be blocked\")"
   ]
  },
  {
   "cell_type": "code",
   "execution_count": 8,
   "id": "d5c70847-867a-4295-a5d4-37cb185fd3f9",
   "metadata": {},
   "outputs": [],
   "source": [
    "# send vehicle off\n",
    "vehicle.set_autopilot()"
   ]
  },
  {
   "cell_type": "code",
   "execution_count": 11,
   "id": "f17cacc6-a089-4dd5-9aa2-5483989b4da1",
   "metadata": {},
   "outputs": [
    {
     "name": "stdout",
     "output_type": "stream",
     "text": [
      "Vehicle current position: Location(x=-7.457461, y=171.254242, z=0.212369)\n"
     ]
    }
   ],
   "source": [
    "# get actual position from the car moving\n",
    "vehicle_pos = vehicle.get_transform()\n",
    "print(f\"Vehicle current position: {vehicle_pos.location}\")"
   ]
  },
  {
   "cell_type": "code",
   "execution_count": 12,
   "id": "df27bacf",
   "metadata": {},
   "outputs": [],
   "source": [
    "# look at the map\n",
    "map = world.get_map()"
   ]
  },
  {
   "cell_type": "code",
   "execution_count": 13,
   "id": "c36bfb33",
   "metadata": {},
   "outputs": [
    {
     "name": "stdout",
     "output_type": "stream",
     "text": [
      "Total roads in the map: 112\n"
     ]
    }
   ],
   "source": [
    "roads = map.get_topology()\n",
    "print(f\"Total roads in the map: {len(roads)}\")"
   ]
  },
  {
   "cell_type": "code",
   "execution_count": 14,
   "id": "3a228465",
   "metadata": {},
   "outputs": [
    {
     "data": {
      "text/plain": [
       "<carla.libcarla.Waypoint at 0x76d3ccc90040>"
      ]
     },
     "execution_count": 14,
     "metadata": {},
     "output_type": "execute_result"
    }
   ],
   "source": [
    "roads[0][0]"
   ]
  },
  {
   "cell_type": "markdown",
   "id": "552edf74",
   "metadata": {},
   "source": [
    "## Road creation"
   ]
  },
  {
   "cell_type": "code",
   "execution_count": 15,
   "id": "cecf9834",
   "metadata": {},
   "outputs": [],
   "source": [
    "# import some code coming with the sim\n",
    "import sys\n",
    "sys.path.append('/home/paridhi/Downloads/CARLA_0.9.15/PythonAPI/carla')\n",
    "from agents.navigation.global_route_planner import GlobalRoutePlanner\n",
    "\n",
    "# from agents.navigation.global_route_planner import GlobalRoutePlanner"
   ]
  },
  {
   "cell_type": "code",
   "execution_count": 16,
   "id": "3e32a960",
   "metadata": {},
   "outputs": [],
   "source": [
    "# draw road waypoints\n",
    "def draw_route_plan(map, world, spawn_points):\n",
    "    smapling_resolution = 2.0  # meters\n",
    "    grp = GlobalRoutePlanner(map, smapling_resolution)\n",
    "\n",
    "    str_point = carla.Location(x=spawn_points[0].location.x, y=spawn_points[0].location.y, z=spawn_points[0].location.z)\n",
    "    end_point = carla.Location(x=spawn_points[10].location.x, y=spawn_points[10].location.y, z=spawn_points[10].location.z)\n",
    "\n",
    "    route = grp.trace_route(str_point, end_point)\n",
    "\n",
    "    for waypoint in route:\n",
    "        world.debug.draw_string(waypoint[0].transform.location, '-', draw_shadow=False,\n",
    "                                color=carla.Color(r=0, g=0, b=255), life_time=120.0,\n",
    "                                persistent_lines=True)"
   ]
  },
  {
   "cell_type": "code",
   "execution_count": 17,
   "id": "72d8acfd",
   "metadata": {},
   "outputs": [],
   "source": [
    "draw_route_plan(map, world, spawn_points)"
   ]
  },
  {
   "cell_type": "code",
   "execution_count": 18,
   "id": "e8f50586",
   "metadata": {},
   "outputs": [],
   "source": [
    "# utility script of destruction\n",
    "\n",
    "for actor in world.get_actors().filter('*vehicle*'):\n",
    "    actor.destroy()\n",
    "for sensor in world.get_actors().filter('*sensor*'):\n",
    "    sensor.destroy()"
   ]
  },
  {
   "cell_type": "code",
   "execution_count": 19,
   "id": "b6b9f083",
   "metadata": {},
   "outputs": [],
   "source": [
    "# now we define 2 cars\n",
    "truck_bp = world.get_blueprint_library().filter('*firetruck*')\n",
    "mini_bp = world.get_blueprint_library().filter('*cooper_s*')\n",
    "\n",
    "#start first car in alredy defined start point\n",
    "truck = world.try_spawn_actor(truck_bp[0], start_point)"
   ]
  },
  {
   "cell_type": "code",
   "execution_count": 20,
   "id": "b800d949",
   "metadata": {},
   "outputs": [],
   "source": [
    "# tweak spectator position to watch the show\n",
    "\n",
    "spectator = world.get_spectator()\n",
    "spawn_points = world.get_map().get_spawn_points()\n",
    "start_point = spawn_points[0]\n",
    "\n",
    "spectator_pos = carla.Transform(start_point.location + carla.Location(x=20,y=10,z=4),\n",
    "                                carla.Rotation(yaw = start_point.rotation.yaw -255))\n",
    "\n",
    "spectator.set_transform(spectator_pos)"
   ]
  },
  {
   "cell_type": "code",
   "execution_count": null,
   "id": "a202bbab",
   "metadata": {},
   "outputs": [
    {
     "ename": "AttributeError",
     "evalue": "'NoneType' object has no attribute 'set_transform'",
     "output_type": "error",
     "traceback": [
      "\u001b[0;31m---------------------------------------------------------------------------\u001b[0m",
      "\u001b[0;31mAttributeError\u001b[0m                            Traceback (most recent call last)",
      "Cell \u001b[0;32mIn[24], line 8\u001b[0m\n\u001b[1;32m      4\u001b[0m mini \u001b[38;5;241m=\u001b[39m world\u001b[38;5;241m.\u001b[39mtry_spawn_actor(mini_bp[\u001b[38;5;241m0\u001b[39m], spawn_points[\u001b[38;5;241m10\u001b[39m])\n\u001b[1;32m      6\u001b[0m mini_pos \u001b[38;5;241m=\u001b[39m carla\u001b[38;5;241m.\u001b[39mTransform(spawn_points[\u001b[38;5;241m5\u001b[39m]\u001b[38;5;241m.\u001b[39mlocation \u001b[38;5;241m+\u001b[39m carla\u001b[38;5;241m.\u001b[39mLocation(x\u001b[38;5;241m=\u001b[39m\u001b[38;5;241m0\u001b[39m,y\u001b[38;5;241m=\u001b[39m\u001b[38;5;241m+\u001b[39m\u001b[38;5;241m4\u001b[39m,z\u001b[38;5;241m=\u001b[39m\u001b[38;5;241m5\u001b[39m),\n\u001b[1;32m      7\u001b[0m                             carla\u001b[38;5;241m.\u001b[39mRotation(yaw \u001b[38;5;241m=\u001b[39m start_point\u001b[38;5;241m.\u001b[39mrotation\u001b[38;5;241m.\u001b[39myaw \u001b[38;5;241m-\u001b[39m \u001b[38;5;241m0\u001b[39m))\n\u001b[0;32m----> 8\u001b[0m \u001b[43mmini\u001b[49m\u001b[38;5;241;43m.\u001b[39;49m\u001b[43mset_transform\u001b[49m(mini_pos)\n",
      "\u001b[0;31mAttributeError\u001b[0m: 'NoneType' object has no attribute 'set_transform'"
     ]
    },
    {
     "name": "stderr",
     "output_type": "stream",
     "text": [
      "WARNING: cannot parse georeference: ''. Using default values. \n",
      "WARNING: No InMemoryMap cache found. Setting up local map. This may take a while... \n",
      "WARNING: cannot parse georeference: ''. Using default values. \n",
      "WARNING: No InMemoryMap cache found. Setting up local map. This may take a while... \n",
      "WARNING: cannot parse georeference: ''. Using default values. \n",
      "WARNING: No InMemoryMap cache found. Setting up local map. This may take a while... \n",
      "WARNING: cannot parse georeference: ''. Using default values. \n",
      "WARNING: No InMemoryMap cache found. Setting up local map. This may take a while... \n",
      "WARNING: cannot parse georeference: ''. Using default values. \n",
      "WARNING: No InMemoryMap cache found. Setting up local map. This may take a while... \n",
      "WARNING: cannot parse georeference: ''. Using default values. \n",
      "WARNING: No InMemoryMap cache found. Setting up local map. This may take a while... \n",
      "WARNING: cannot parse georeference: ''. Using default values. \n",
      "WARNING: No InMemoryMap cache found. Setting up local map. This may take a while... \n",
      "WARNING: cannot parse georeference: ''. Using default values. \n",
      "WARNING: No InMemoryMap cache found. Setting up local map. This may take a while... \n",
      "WARNING: cannot parse georeference: ''. Using default values. \n",
      "WARNING: No InMemoryMap cache found. Setting up local map. This may take a while... \n",
      "WARNING: cannot parse georeference: ''. Using default values. \n",
      "WARNING: No InMemoryMap cache found. Setting up local map. This may take a while... \n",
      "WARNING: cannot parse georeference: ''. Using default values. \n",
      "WARNING: No InMemoryMap cache found. Setting up local map. This may take a while... \n"
     ]
    },
    {
     "ename": "",
     "evalue": "",
     "output_type": "error",
     "traceback": [
      "\u001b[1;31mThe Kernel crashed while executing code in the current cell or a previous cell. \n",
      "\u001b[1;31mPlease review the code in the cell(s) to identify a possible cause of the failure. \n",
      "\u001b[1;31mClick <a href='https://aka.ms/vscodeJupyterKernelCrash'>here</a> for more info. \n",
      "\u001b[1;31mView Jupyter <a href='command:jupyter.viewOutput'>log</a> for further details."
     ]
    }
   ],
   "source": [
    "# drop the Mini the sky - watch what happens after\n",
    "\n",
    "#spawn it first somewhere else\n",
    "mini = world.try_spawn_actor(mini_bp[0], spawn_points[10])\n",
    "\n",
    "mini_pos = carla.Transform(spawn_points[5].location + carla.Location(x=0,y=+4,z=5),\n",
    "                            carla.Rotation(yaw = start_point.rotation.yaw - 0))\n",
    "mini.set_transform(mini_pos)"
   ]
  },
  {
   "cell_type": "code",
   "execution_count": null,
   "id": "d3d151c6",
   "metadata": {},
   "outputs": [],
   "source": []
  },
  {
   "cell_type": "code",
   "execution_count": null,
   "id": "e0744777",
   "metadata": {},
   "outputs": [],
   "source": []
  },
  {
   "cell_type": "code",
   "execution_count": null,
   "id": "a632ffa7",
   "metadata": {},
   "outputs": [],
   "source": []
  }
 ],
 "metadata": {
  "kernelspec": {
   "display_name": "carlaenv",
   "language": "python",
   "name": "python3"
  },
  "language_info": {
   "codemirror_mode": {
    "name": "ipython",
    "version": 3
   },
   "file_extension": ".py",
   "mimetype": "text/x-python",
   "name": "python",
   "nbconvert_exporter": "python",
   "pygments_lexer": "ipython3",
   "version": "3.9.24"
  }
 },
 "nbformat": 4,
 "nbformat_minor": 5
}
