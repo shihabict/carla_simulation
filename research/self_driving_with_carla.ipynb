{
 "cells": [
  {
   "cell_type": "code",
   "execution_count": 26,
   "id": "ec393a17-af57-4190-9bf1-120716d17656",
   "metadata": {},
   "outputs": [],
   "source": [
    "import carla\n",
    "import random"
   ]
  },
  {
   "cell_type": "code",
   "execution_count": 32,
   "id": "ac4bd9b8-e535-4dab-a263-c374ce0fc488",
   "metadata": {},
   "outputs": [
    {
     "data": {
      "text/plain": [
       "<carla.libcarla.BlueprintLibrary at 0x7d3d68dc8ba0>"
      ]
     },
     "execution_count": 32,
     "metadata": {},
     "output_type": "execute_result"
    }
   ],
   "source": [
    "# Set up the world\n",
    "client = carla.Client('localhost',2000)\n",
    "\n",
    "world = client.get_world()\n",
    "client.load_world('Town02')\n",
    "spawn_points = world.get_map().get_spawn_points()\n",
    "\n",
    "vehicle_bp = world.get_blueprint_library().filter('*vehicle*')\n",
    "\n",
    "vehicle_bp"
   ]
  },
  {
   "cell_type": "code",
   "execution_count": null,
   "id": "382b2fd6-5fa6-48b9-aaaa-127f17a0b9a1",
   "metadata": {},
   "outputs": [],
   "source": []
  },
  {
   "cell_type": "code",
   "execution_count": 33,
   "id": "34d43e52-e87e-4cfd-bd3c-d33e9224a551",
   "metadata": {},
   "outputs": [
    {
     "data": {
      "text/plain": [
       "<carla.libcarla.Transform at 0x7d3d800127c0>"
      ]
     },
     "execution_count": 33,
     "metadata": {},
     "output_type": "execute_result"
    }
   ],
   "source": [
    "spawn_points[0]"
   ]
  },
  {
   "cell_type": "code",
   "execution_count": 34,
   "id": "99baa90e-1a0d-41d5-8573-4ba65801b78b",
   "metadata": {},
   "outputs": [],
   "source": [
    "start_point = spawn_points[0]\n",
    "vehicle = world.try_spawn_actor(vehicle_bp[0], start_point)"
   ]
  },
  {
   "cell_type": "code",
   "execution_count": 36,
   "id": "d4d3adf4-a93d-4463-9244-2526af20c782",
   "metadata": {},
   "outputs": [],
   "source": [
    "# get the car position on the map\n",
    "# Move spectator to vehicle location\n",
    "spectator = world.get_spectator()\n",
    "transform = vehicle.get_transform()\n",
    "spectator.set_transform(carla.Transform(\n",
    "    transform.location + carla.Location(z=30),  # 50 meters above\n",
    "    carla.Rotation(pitch=-90)  # Looking down\n",
    "))"
   ]
  },
  {
   "cell_type": "code",
   "execution_count": 37,
   "id": "c0b9451a-ddf0-4d71-bd48-0dc57e57717e",
   "metadata": {},
   "outputs": [
    {
     "name": "stdout",
     "output_type": "stream",
     "text": [
      "Vehicle spawned successfully at: Transform(Location(x=-7.530000, y=142.190369, z=0.212400), Rotation(pitch=0.064108, yaw=89.999947, roll=0.000000))\n",
      "Location: Location(x=-7.530000, y=142.190369, z=0.212400)\n"
     ]
    }
   ],
   "source": [
    "if vehicle is not None:\n",
    "    print(f\"Vehicle spawned successfully at: {vehicle.get_transform()}\")\n",
    "    vehicle_pos = vehicle.get_transform()\n",
    "    print(f\"Location: {vehicle_pos.location}\")\n",
    "else:\n",
    "    print(\"Failed to spawn vehicle - spawn point may be blocked\")"
   ]
  },
  {
   "cell_type": "code",
   "execution_count": 19,
   "id": "6e83da34-e6a3-4a4d-bc43-6bc8aafce6de",
   "metadata": {},
   "outputs": [
    {
     "name": "stdout",
     "output_type": "stream",
     "text": [
      "Transform(Location(x=335.489990, y=273.743317, z=0.300000), Rotation(pitch=0.000000, yaw=90.000046, roll=0.000000))\n"
     ]
    }
   ],
   "source": []
  },
  {
   "cell_type": "code",
   "execution_count": 39,
   "id": "d5c70847-867a-4295-a5d4-37cb185fd3f9",
   "metadata": {},
   "outputs": [],
   "source": [
    "# send vehicle off\n",
    "vehicle.set_autopilot()"
   ]
  },
  {
   "cell_type": "code",
   "execution_count": null,
   "id": "f17cacc6-a089-4dd5-9aa2-5483989b4da1",
   "metadata": {},
   "outputs": [],
   "source": []
  }
 ],
 "metadata": {
  "kernelspec": {
   "display_name": "carlaenv",
   "language": "python",
   "name": "carlaenv"
  },
  "language_info": {
   "codemirror_mode": {
    "name": "ipython",
    "version": 3
   },
   "file_extension": ".py",
   "mimetype": "text/x-python",
   "name": "python",
   "nbconvert_exporter": "python",
   "pygments_lexer": "ipython3",
   "version": "3.9.23"
  }
 },
 "nbformat": 4,
 "nbformat_minor": 5
}
