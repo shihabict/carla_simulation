{
 "cells": [
  {
   "cell_type": "code",
   "execution_count": 14,
   "id": "d16e36a9",
   "metadata": {},
   "outputs": [],
   "source": [
    "#all imports\n",
    "import carla\n",
    "import math\n",
    "\n",
    "\n",
    "# Build connection to the CARLA server\n",
    "client = carla.Client('localhost', 2000)\n",
    "client.set_timeout(10.0)\n",
    "\n",
    "\n",
    "# world = client.get_world()\n",
    "# spawn_points = world.get_map().get_spawn_points()\n",
    "\n",
    "# vehicle_bp = world.get_blueprint_library().filter('*model3*')\n",
    "# start_point = spawn_points[0]\n",
    "# vehicle = world.try_spawn_actor(vehicle_bp[0], start_point)"
   ]
  },
  {
   "cell_type": "code",
   "execution_count": 37,
   "id": "40087968",
   "metadata": {},
   "outputs": [
    {
     "name": "stdout",
     "output_type": "stream",
     "text": [
      "pygame 2.6.1 (SDL 2.28.4, Python 3.9.22)\n",
      "Hello from the pygame community. https://www.pygame.org/contribute.html\n"
     ]
    }
   ],
   "source": [
    "\n",
    "import random\n",
    "import pygame # We will be using this for manual control"
   ]
  },
  {
   "cell_type": "code",
   "execution_count": 19,
   "id": "f9f720d3",
   "metadata": {},
   "outputs": [],
   "source": [
    "# Load layered map for Town 01 with minimum layout plus buildings and parked vehicles\n",
    "world = client.load_world('Town01_Opt', carla.MapLayer.Buildings | carla.MapLayer.ParkedVehicles)\n",
    "\n",
    "# Toggle all buildings off\n",
    "world.unload_map_layer(carla.MapLayer.Buildings)\n",
    "\n",
    "# Toggle all buildings on   \n",
    "world.load_map_layer(carla.MapLayer.Buildings)"
   ]
  },
  {
   "cell_type": "code",
   "execution_count": 20,
   "id": "593c8c3f",
   "metadata": {},
   "outputs": [],
   "source": [
    "# changed the weather to a clear noon.\n",
    "\n",
    "weather = carla.WeatherParameters(\n",
    "    cloudiness=0.0,\n",
    "    precipitation=0.0,\n",
    "    sun_altitude_angle=10.0,\n",
    "    sun_azimuth_angle = 90.0,\n",
    "    precipitation_deposits = 0.0,\n",
    "    wind_intensity = 0.0,\n",
    "    fog_density = 0.0,\n",
    "    wetness = 0.0, \n",
    ")\n",
    "world.set_weather(weather)"
   ]
  },
  {
   "cell_type": "code",
   "execution_count": 21,
   "id": "4c979547",
   "metadata": {},
   "outputs": [],
   "source": [
    "# First let's get the blueprint library and the spawn points for our world.\n",
    "# Depending on your Carla version and the map chosen, you get different actors\n",
    "# and spawn points respectively\n",
    "\n",
    "bp_lib = world.get_blueprint_library() \n",
    "spawn_points = world.get_map().get_spawn_points()"
   ]
  },
  {
   "cell_type": "code",
   "execution_count": 22,
   "id": "37ba8b02",
   "metadata": {},
   "outputs": [],
   "source": [
    "# I am spawning an Audi etron here. You can check out the blueprint library\n",
    "# to spawn your vehicle of choice. Also we spawn in a random safe point 79\n",
    "\n",
    "vehicle_bp = bp_lib.find('vehicle.audi.etron')\n",
    "ego_vehicle = world.try_spawn_actor(vehicle_bp, spawn_points[79]) "
   ]
  },
  {
   "cell_type": "code",
   "execution_count": 23,
   "id": "b55f3c3b",
   "metadata": {},
   "outputs": [],
   "source": [
    "# Let's position the spectator just behind the vehicle\n",
    "# Carla.Transform has two parameters - Location and Rotation. We use this to\n",
    "# to position the spectator by going 4 metres behind and 2.5 metres above the \n",
    "# ego_vehicle\n",
    "\n",
    "spectator = world.get_spectator()\n",
    "transform = carla.Transform(ego_vehicle.get_transform().transform(carla.Location(x=-4,z=2.5)),ego_vehicle.get_transform().rotation)\n",
    "spectator.set_transform(transform)"
   ]
  },
  {
   "cell_type": "code",
   "execution_count": 25,
   "id": "f7e915a9",
   "metadata": {},
   "outputs": [],
   "source": [
    "# If you want to position the your_actor with just the coordinates, \n",
    "# you can use the below codes.\n",
    "# location = carla.Location(x=0, y=0, z=30)\n",
    "# rotation = carla.Rotation(roll=0, pitch=-30, yaw=180)\n",
    "# transform = carla.Transform(location, rotation)\n",
    "# your_actor.set_transform(transform)"
   ]
  },
  {
   "cell_type": "code",
   "execution_count": 26,
   "id": "235fcb22",
   "metadata": {},
   "outputs": [],
   "source": [
    "## NPCs Spawning"
   ]
  },
  {
   "cell_type": "code",
   "execution_count": 28,
   "id": "f5f641a7",
   "metadata": {},
   "outputs": [],
   "source": [
    "import random \n",
    "# Let's add some traffic. I am spawning 200 vehicle actors at random spawn_points\n",
    "# (includes all kinds of automobiles). The method try_spawn_actor makes sure\n",
    "# you can spawn it without messing with any existing actors.\n",
    "\n",
    "for i in range(200):  \n",
    "    vehicle_bp = random.choice(bp_lib.filter('vehicle')) \n",
    "    npc = world.try_spawn_actor(vehicle_bp, random.choice(spawn_points))\n",
    "\n",
    "\n",
    "#Set traffic in motion\n",
    "for v in world.get_actors().filter('*vehicle*'): \n",
    "    v.set_autopilot(True) # This makes all the vehicles function in autopilot\n",
    "ego_vehicle.set_autopilot(False) # Allows you to drive the ego_vehicle manually"
   ]
  },
  {
   "cell_type": "code",
   "execution_count": null,
   "id": "7408054f",
   "metadata": {},
   "outputs": [],
   "source": [
    "## Vehicle Properties"
   ]
  },
  {
   "cell_type": "code",
   "execution_count": 30,
   "id": "0812d7e6",
   "metadata": {},
   "outputs": [],
   "source": [
    "## Vehicle PHYSICS property\n",
    "\n",
    "# Create Wheels Physics Control\n",
    "front_left_wheel  = carla.WheelPhysicsControl(tire_friction=2.0, damping_rate=1.5, max_steer_angle=70.0, long_stiff_value=1000)\n",
    "front_right_wheel = carla.WheelPhysicsControl(tire_friction=2.0, damping_rate=1.5, max_steer_angle=70.0, long_stiff_value=1000)\n",
    "rear_left_wheel   = carla.WheelPhysicsControl(tire_friction=3.0, damping_rate=1.5, max_steer_angle=0.0,  long_stiff_value=1000)\n",
    "rear_right_wheel  = carla.WheelPhysicsControl(tire_friction=3.0, damping_rate=1.5, max_steer_angle=0.0,  long_stiff_value=1000) # Reducing friction increases idle throttle \n",
    "\n",
    "wheels = [front_left_wheel, front_right_wheel, rear_left_wheel, rear_right_wheel]\n",
    "\n",
    "# Change Vehicle Physics Control parameters of the vehicle\n",
    "physics_control = ego_vehicle.get_physics_control()\n",
    "physics_control.torque_curve = [carla.Vector2D(x=0, y=400), carla.Vector2D(x=1300, y=600)]\n",
    "physics_control.max_rpm = 10000\n",
    "physics_control.moi = 1.0\n",
    "physics_control.damping_rate_full_throttle = 0.0\n",
    "physics_control.use_gear_autobox = True\n",
    "physics_control.gear_switch_time = 0.5\n",
    "physics_control.clutch_strength = 10\n",
    "physics_control.mass = 10000\n",
    "physics_control.drag_coefficient = 0.25\n",
    "physics_control.steering_curve = [carla.Vector2D(x=0, y=1), carla.Vector2D(x=100, y=1), carla.Vector2D(x=300, y=1)]\n",
    "physics_control.use_sweep_wheel_collision = True\n",
    "physics_control.wheels = wheels\n",
    "\n",
    "# Apply Vehicle Physics Control for the vehicle\n",
    "vehicle.apply_physics_control(physics_control)"
   ]
  },
  {
   "cell_type": "code",
   "execution_count": 31,
   "id": "be54a9fa",
   "metadata": {},
   "outputs": [],
   "source": [
    "## Manual Control"
   ]
  },
  {
   "cell_type": "code",
   "execution_count": 33,
   "id": "dd92dbe7",
   "metadata": {},
   "outputs": [
    {
     "name": "stdout",
     "output_type": "stream",
     "text": [
      "Collecting pygame\n",
      "  Downloading pygame-2.6.1-cp39-cp39-manylinux_2_17_x86_64.manylinux2014_x86_64.whl.metadata (12 kB)\n",
      "Downloading pygame-2.6.1-cp39-cp39-manylinux_2_17_x86_64.manylinux2014_x86_64.whl (14.0 MB)\n",
      "\u001b[2K   \u001b[38;2;114;156;31m━━━━━━━━━━━━━━━━━━━━━━━━━━━━━━━━━━━━━━━━\u001b[0m \u001b[32m14.0/14.0 MB\u001b[0m \u001b[31m67.0 MB/s\u001b[0m eta \u001b[36m0:00:00\u001b[0m1m60.8 MB/s\u001b[0m eta \u001b[36m0:00:01\u001b[0m\n",
      "\u001b[?25hInstalling collected packages: pygame\n",
      "Successfully installed pygame-2.6.1\n"
     ]
    }
   ],
   "source": [
    "! pip install pygame"
   ]
  },
  {
   "cell_type": "code",
   "execution_count": 38,
   "id": "ad9eaebe",
   "metadata": {},
   "outputs": [],
   "source": [
    "pygame.init() #initialising\n",
    "\n",
    "# Set up the Pygame display\n",
    "size = (640, 480)\n",
    "pygame.display.set_caption(\"CARLA Manual Control\")\n",
    "screen = pygame.display.set_mode(size)\n",
    "\n",
    "# Set up the control object and loop until the user exits the script\n",
    "control = carla.VehicleControl()\n",
    "clock = pygame.time.Clock()\n",
    "done = False\n",
    "\n",
    "while not done:\n",
    "    # Get keyboard input and handle it\n",
    "    keys = pygame.key.get_pressed() \n",
    "    \n",
    "    # The values are directly from the manual control code which we ran in the\n",
    "    # last post. Just implemented just the throttle, brake and steer\n",
    "    # You can add reverse and gear shifting features directly from that code\n",
    "\n",
    "    if keys[pygame.K_UP] or keys[pygame.K_w]:\n",
    "        control.throttle = min(control.throttle + 0.05, 1.0)\n",
    "    else:\n",
    "        control.throttle = 0.0\n",
    "\n",
    "    if keys[pygame.K_DOWN] or keys[pygame.K_s]:\n",
    "        control.brake = min(control.brake + 0.2, 1.0)\n",
    "    else:\n",
    "        control.brake = 0.0\n",
    "\n",
    "    if keys[pygame.K_LEFT] or keys[pygame.K_a]:\n",
    "        control.steer = max(control.steer - 0.05, -1.0)\n",
    "    elif keys[pygame.K_RIGHT] or keys[pygame.K_d]:\n",
    "        control.steer = min(control.steer + 0.05, 1.0)\n",
    "    else:\n",
    "        control.steer = 0.0\n",
    "\n",
    "    control.hand_brake = keys[pygame.K_SPACE]\n",
    "\n",
    "    # Apply the control to the ego vehicle and tick the simulation\n",
    "    ego_vehicle.apply_control(control)\n",
    "    world.tick()\n",
    "\n",
    "    # Update the display and check for the quit event\n",
    "    pygame.display.flip()\n",
    "    pygame.display.update()\n",
    "    for event in pygame.event.get():\n",
    "        if event.type == pygame.QUIT:\n",
    "            done = True\n",
    "\n",
    "    # Sleep to ensure consistent loop timing\n",
    "    clock.tick(60)"
   ]
  },
  {
   "cell_type": "code",
   "execution_count": null,
   "id": "c1c1cc13",
   "metadata": {},
   "outputs": [],
   "source": []
  },
  {
   "cell_type": "code",
   "execution_count": null,
   "id": "8bb673d3",
   "metadata": {},
   "outputs": [],
   "source": []
  },
  {
   "cell_type": "code",
   "execution_count": 2,
   "id": "9ae83724",
   "metadata": {},
   "outputs": [
    {
     "name": "stdout",
     "output_type": "stream",
     "text": [
      "vehicle.tesla.model3\n"
     ]
    }
   ],
   "source": [
    "print(vehicle_bp[0].id)"
   ]
  },
  {
   "cell_type": "code",
   "execution_count": 3,
   "id": "08402b80",
   "metadata": {},
   "outputs": [],
   "source": [
    "# get spectator\n",
    "spectator = world.get_spectator() #Retrieves the spectator camera actor from the world\n",
    "\n",
    "spectator_pos = carla.Transform(start_point.location + carla.Location(x=20,y=10,z=4),\n",
    "                                carla.Rotation(yaw = start_point.rotation.yaw -155))\n",
    "spectator.set_transform(spectator_pos)"
   ]
  },
  {
   "cell_type": "code",
   "execution_count": 4,
   "id": "f842b65a",
   "metadata": {},
   "outputs": [
    {
     "data": {
      "text/plain": [
       "<carla.libcarla.Transform at 0x7e8b640fff40>"
      ]
     },
     "execution_count": 4,
     "metadata": {},
     "output_type": "execute_result"
    }
   ],
   "source": [
    "# this gets the car's position on the map \n",
    "vehicle_transform = vehicle.get_transform()"
   ]
  },
  {
   "cell_type": "code",
   "execution_count": 5,
   "id": "d7311403",
   "metadata": {},
   "outputs": [],
   "source": [
    "#send vehicle off\n",
    "vehicle.set_autopilot(True)"
   ]
  },
  {
   "cell_type": "code",
   "execution_count": 7,
   "id": "642ced80",
   "metadata": {},
   "outputs": [],
   "source": [
    "# utility script of destruction just in case\n",
    "\n",
    "for actor in world.get_actors().filter('*vehicle*'):\n",
    "    actor.destroy()\n",
    "for sensor in world.get_actors().filter('*sensor*'):\n",
    "    sensor.destroy()"
   ]
  },
  {
   "cell_type": "code",
   "execution_count": 8,
   "id": "47e23d2a",
   "metadata": {},
   "outputs": [],
   "source": [
    "#function to claculate sides (x,y) of a right-angle triangle\n",
    "\n",
    "def calculate_sides(hypotenuse, angle):\n",
    "  \"\"\"\n",
    "  Calculates the two sides of a right triangle given the hypotenuse and an angle.\n",
    "\n",
    "  Args:\n",
    "    hypotenuse: The length of the hypotenuse of the triangle.\n",
    "    represents the distance we need to be from the car\n",
    "    angle: The angle of the triangle in degrees.\n",
    "    represents the yaw angle of the car we need to be aligned with \n",
    "\n",
    "  Returns:\n",
    "    A tuple containing the lengths of the two sides of the triangle.\n",
    "    which are delta x and y\n",
    "  \"\"\"\n",
    "\n",
    "  # Convert the angle to radians\n",
    "  angle_radians = math.radians(angle)\n",
    "\n",
    "  # Calculate the opposite side using the sine function\n",
    "  opposite_side = hypotenuse * math.sin(angle_radians)\n",
    "\n",
    "  # Calculate the adjacent side using the cosine function\n",
    "  adjacent_side = hypotenuse * math.cos(angle_radians)\n",
    "\n",
    "  return opposite_side, adjacent_side"
   ]
  },
  {
   "cell_type": "code",
   "execution_count": 9,
   "id": "60c2607a",
   "metadata": {},
   "outputs": [],
   "source": [
    "# follow the car\n",
    "# here we subtract the delta x and y to be behind \n",
    "metres_distance = 5\n",
    "vehicle_transform = vehicle.get_transform()\n",
    "y,x = calculate_sides(metres_distance, vehicle_transform.rotation.yaw )\n",
    "\n",
    "spectator_pos = carla.Transform(vehicle_transform.location + carla.Location(x=-x,y=-y,z=5 ),\n",
    "                                        carla.Rotation( yaw = vehicle_transform.rotation.yaw,pitch = -25))\n",
    "spectator.set_transform(spectator_pos)            "
   ]
  },
  {
   "cell_type": "code",
   "execution_count": 10,
   "id": "5a12a6f4",
   "metadata": {},
   "outputs": [],
   "source": [
    "# view head on\n",
    "# here we add delta x and y to be in front of the car\n",
    "# but also add 180 degree yaw to \"turn around\" towards the car \n",
    "metres_distance = 15\n",
    "vehicle_transform = vehicle.get_transform()\n",
    "y,x = calculate_sides(metres_distance, vehicle_transform.rotation.yaw )\n",
    "\n",
    "spectator_pos = carla.Transform(vehicle_transform.location + carla.Location(x=x,y=y,z=5 ),\n",
    "                                        carla.Rotation( yaw = vehicle_transform.rotation.yaw - 180,pitch = -25))\n",
    "spectator.set_transform(spectator_pos)      "
   ]
  },
  {
   "cell_type": "code",
   "execution_count": 11,
   "id": "aa433b96",
   "metadata": {},
   "outputs": [],
   "source": [
    "vehicle_bp = world.get_blueprint_library().filter('*police*')\n",
    "start_point = spawn_points[0]\n",
    "vehicle = world.try_spawn_actor(vehicle_bp[0], start_point)"
   ]
  },
  {
   "cell_type": "code",
   "execution_count": 12,
   "id": "604d0843",
   "metadata": {},
   "outputs": [],
   "source": [
    "for actor in world.get_actors().filter('*vehicle*'):\n",
    "    actor.set_autopilot(False)"
   ]
  },
  {
   "cell_type": "code",
   "execution_count": 13,
   "id": "3529b612",
   "metadata": {},
   "outputs": [],
   "source": [
    "# get spectator\n",
    "spectator = world.get_spectator()\n",
    "spectator_pos = carla.Transform(start_point.location + carla.Location(x=20,y=10,z=4),\n",
    "                                carla.Rotation(yaw = 0, pitch = -90))\n",
    "spectator.set_transform(spectator_pos)"
   ]
  },
  {
   "cell_type": "code",
   "execution_count": null,
   "id": "7ad874aa",
   "metadata": {},
   "outputs": [],
   "source": []
  }
 ],
 "metadata": {
  "kernelspec": {
   "display_name": "carlasimenv",
   "language": "python",
   "name": "carlasimenv"
  },
  "language_info": {
   "codemirror_mode": {
    "name": "ipython",
    "version": 3
   },
   "file_extension": ".py",
   "mimetype": "text/x-python",
   "name": "python",
   "nbconvert_exporter": "python",
   "pygments_lexer": "ipython3",
   "version": "3.9.22"
  }
 },
 "nbformat": 4,
 "nbformat_minor": 5
}
